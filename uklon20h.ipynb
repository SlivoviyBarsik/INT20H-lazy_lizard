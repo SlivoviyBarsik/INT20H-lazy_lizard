{
  "cells": [
    {
      "attachments": {},
      "cell_type": "markdown",
      "metadata": {},
      "source": [
        "## Imports"
      ]
    },
    {
      "cell_type": "code",
      "execution_count": 1,
      "metadata": {
        "id": "TG5LUT7Ipl-Z"
      },
      "outputs": [],
      "source": [
        "from sklearn.metrics import mean_squared_error\n",
        "from sklearn.ensemble import RandomForestRegressor\n",
        "\n",
        "from utils import *"
      ]
    },
    {
      "cell_type": "code",
      "execution_count": 11,
      "metadata": {},
      "outputs": [],
      "source": [
        "orders, nodes = load_data(\"train_data/orders.csv\", \"train_data/nodes.csv\")\n",
        "X, y = feat_eng(orders, nodes)"
      ]
    },
    {
      "cell_type": "code",
      "execution_count": 12,
      "metadata": {},
      "outputs": [
        {
          "data": {
            "text/html": [
              "<div>\n",
              "<style scoped>\n",
              "    .dataframe tbody tr th:only-of-type {\n",
              "        vertical-align: middle;\n",
              "    }\n",
              "\n",
              "    .dataframe tbody tr th {\n",
              "        vertical-align: top;\n",
              "    }\n",
              "\n",
              "    .dataframe thead th {\n",
              "        text-align: right;\n",
              "    }\n",
              "</style>\n",
              "<table border=\"1\" class=\"dataframe\">\n",
              "  <thead>\n",
              "    <tr style=\"text-align: right;\">\n",
              "      <th></th>\n",
              "      <th>running_time</th>\n",
              "      <th>route_distance_km</th>\n",
              "      <th>latest10</th>\n",
              "      <th>distance</th>\n",
              "      <th>speed</th>\n",
              "      <th>expected_node_time</th>\n",
              "      <th>node_part_time</th>\n",
              "      <th>node_part_distance</th>\n",
              "      <th>time_rbf</th>\n",
              "    </tr>\n",
              "    <tr>\n",
              "      <th>Id</th>\n",
              "      <th></th>\n",
              "      <th></th>\n",
              "      <th></th>\n",
              "      <th></th>\n",
              "      <th></th>\n",
              "      <th></th>\n",
              "      <th></th>\n",
              "      <th></th>\n",
              "      <th></th>\n",
              "    </tr>\n",
              "  </thead>\n",
              "  <tbody>\n",
              "    <tr>\n",
              "      <th>1232212655921391683</th>\n",
              "      <td>30</td>\n",
              "      <td>8.023</td>\n",
              "      <td>1.000000</td>\n",
              "      <td>8.071906</td>\n",
              "      <td>7.222222</td>\n",
              "      <td>1.117649</td>\n",
              "      <td>0.001751</td>\n",
              "      <td>0.001006</td>\n",
              "      <td>0.031318</td>\n",
              "    </tr>\n",
              "    <tr>\n",
              "      <th>1232212655921391683</th>\n",
              "      <td>30</td>\n",
              "      <td>8.023</td>\n",
              "      <td>1.000000</td>\n",
              "      <td>54.631245</td>\n",
              "      <td>8.888889</td>\n",
              "      <td>6.146015</td>\n",
              "      <td>0.009631</td>\n",
              "      <td>0.006809</td>\n",
              "      <td>0.031371</td>\n",
              "    </tr>\n",
              "    <tr>\n",
              "      <th>1232212655921391683</th>\n",
              "      <td>30</td>\n",
              "      <td>8.023</td>\n",
              "      <td>1.000000</td>\n",
              "      <td>85.583772</td>\n",
              "      <td>14.166667</td>\n",
              "      <td>6.041207</td>\n",
              "      <td>0.009467</td>\n",
              "      <td>0.010667</td>\n",
              "      <td>0.031424</td>\n",
              "    </tr>\n",
              "    <tr>\n",
              "      <th>1232212655921391683</th>\n",
              "      <td>30</td>\n",
              "      <td>8.023</td>\n",
              "      <td>1.000000</td>\n",
              "      <td>74.058342</td>\n",
              "      <td>5.000000</td>\n",
              "      <td>14.811668</td>\n",
              "      <td>0.023211</td>\n",
              "      <td>0.009231</td>\n",
              "      <td>0.031552</td>\n",
              "    </tr>\n",
              "    <tr>\n",
              "      <th>1232212655921391683</th>\n",
              "      <td>30</td>\n",
              "      <td>8.023</td>\n",
              "      <td>1.000000</td>\n",
              "      <td>3.174041</td>\n",
              "      <td>13.333333</td>\n",
              "      <td>0.238053</td>\n",
              "      <td>0.000373</td>\n",
              "      <td>0.000396</td>\n",
              "      <td>0.031554</td>\n",
              "    </tr>\n",
              "    <tr>\n",
              "      <th>...</th>\n",
              "      <td>...</td>\n",
              "      <td>...</td>\n",
              "      <td>...</td>\n",
              "      <td>...</td>\n",
              "      <td>...</td>\n",
              "      <td>...</td>\n",
              "      <td>...</td>\n",
              "      <td>...</td>\n",
              "      <td>...</td>\n",
              "    </tr>\n",
              "    <tr>\n",
              "      <th>4378890784988522255</th>\n",
              "      <td>1435</td>\n",
              "      <td>4.739</td>\n",
              "      <td>1.309539</td>\n",
              "      <td>80.225910</td>\n",
              "      <td>10.000000</td>\n",
              "      <td>8.022591</td>\n",
              "      <td>0.027163</td>\n",
              "      <td>0.016929</td>\n",
              "      <td>0.405027</td>\n",
              "    </tr>\n",
              "    <tr>\n",
              "      <th>4378890784988522255</th>\n",
              "      <td>1435</td>\n",
              "      <td>4.739</td>\n",
              "      <td>1.309539</td>\n",
              "      <td>71.665261</td>\n",
              "      <td>9.722222</td>\n",
              "      <td>7.371284</td>\n",
              "      <td>0.024958</td>\n",
              "      <td>0.015122</td>\n",
              "      <td>0.404795</td>\n",
              "    </tr>\n",
              "    <tr>\n",
              "      <th>4378890784988522255</th>\n",
              "      <td>1435</td>\n",
              "      <td>4.739</td>\n",
              "      <td>1.309539</td>\n",
              "      <td>154.010596</td>\n",
              "      <td>9.166667</td>\n",
              "      <td>16.801156</td>\n",
              "      <td>0.056886</td>\n",
              "      <td>0.032499</td>\n",
              "      <td>0.404267</td>\n",
              "    </tr>\n",
              "    <tr>\n",
              "      <th>4378890784988522255</th>\n",
              "      <td>1435</td>\n",
              "      <td>4.739</td>\n",
              "      <td>1.309539</td>\n",
              "      <td>61.843045</td>\n",
              "      <td>8.611111</td>\n",
              "      <td>7.181773</td>\n",
              "      <td>0.024316</td>\n",
              "      <td>0.013050</td>\n",
              "      <td>0.404041</td>\n",
              "    </tr>\n",
              "    <tr>\n",
              "      <th>4378890784988522255</th>\n",
              "      <td>1435</td>\n",
              "      <td>4.739</td>\n",
              "      <td>1.309539</td>\n",
              "      <td>40.254843</td>\n",
              "      <td>5.555556</td>\n",
              "      <td>7.245872</td>\n",
              "      <td>0.024533</td>\n",
              "      <td>0.008494</td>\n",
              "      <td>0.403814</td>\n",
              "    </tr>\n",
              "  </tbody>\n",
              "</table>\n",
              "<p>401301 rows × 9 columns</p>\n",
              "</div>"
            ],
            "text/plain": [
              "                     running_time  route_distance_km  latest10    distance  \\\n",
              "Id                                                                           \n",
              "1232212655921391683            30              8.023  1.000000    8.071906   \n",
              "1232212655921391683            30              8.023  1.000000   54.631245   \n",
              "1232212655921391683            30              8.023  1.000000   85.583772   \n",
              "1232212655921391683            30              8.023  1.000000   74.058342   \n",
              "1232212655921391683            30              8.023  1.000000    3.174041   \n",
              "...                           ...                ...       ...         ...   \n",
              "4378890784988522255          1435              4.739  1.309539   80.225910   \n",
              "4378890784988522255          1435              4.739  1.309539   71.665261   \n",
              "4378890784988522255          1435              4.739  1.309539  154.010596   \n",
              "4378890784988522255          1435              4.739  1.309539   61.843045   \n",
              "4378890784988522255          1435              4.739  1.309539   40.254843   \n",
              "\n",
              "                         speed  expected_node_time  node_part_time  \\\n",
              "Id                                                                   \n",
              "1232212655921391683   7.222222            1.117649        0.001751   \n",
              "1232212655921391683   8.888889            6.146015        0.009631   \n",
              "1232212655921391683  14.166667            6.041207        0.009467   \n",
              "1232212655921391683   5.000000           14.811668        0.023211   \n",
              "1232212655921391683  13.333333            0.238053        0.000373   \n",
              "...                        ...                 ...             ...   \n",
              "4378890784988522255  10.000000            8.022591        0.027163   \n",
              "4378890784988522255   9.722222            7.371284        0.024958   \n",
              "4378890784988522255   9.166667           16.801156        0.056886   \n",
              "4378890784988522255   8.611111            7.181773        0.024316   \n",
              "4378890784988522255   5.555556            7.245872        0.024533   \n",
              "\n",
              "                     node_part_distance  time_rbf  \n",
              "Id                                                 \n",
              "1232212655921391683            0.001006  0.031318  \n",
              "1232212655921391683            0.006809  0.031371  \n",
              "1232212655921391683            0.010667  0.031424  \n",
              "1232212655921391683            0.009231  0.031552  \n",
              "1232212655921391683            0.000396  0.031554  \n",
              "...                                 ...       ...  \n",
              "4378890784988522255            0.016929  0.405027  \n",
              "4378890784988522255            0.015122  0.404795  \n",
              "4378890784988522255            0.032499  0.404267  \n",
              "4378890784988522255            0.013050  0.404041  \n",
              "4378890784988522255            0.008494  0.403814  \n",
              "\n",
              "[401301 rows x 9 columns]"
            ]
          },
          "execution_count": 12,
          "metadata": {},
          "output_type": "execute_result"
        }
      ],
      "source": [
        "X"
      ]
    },
    {
      "cell_type": "code",
      "execution_count": 3,
      "metadata": {
        "id": "q6Z133LT1S6Q"
      },
      "outputs": [],
      "source": [
        "X_train, y_train, X_val, y_val = train_test_split(X, y)"
      ]
    },
    {
      "cell_type": "code",
      "execution_count": 4,
      "metadata": {
        "id": "05Qd2fzq1qlF"
      },
      "outputs": [
        {
          "data": {
            "text/html": [
              "<style>#sk-container-id-1 {color: black;background-color: white;}#sk-container-id-1 pre{padding: 0;}#sk-container-id-1 div.sk-toggleable {background-color: white;}#sk-container-id-1 label.sk-toggleable__label {cursor: pointer;display: block;width: 100%;margin-bottom: 0;padding: 0.3em;box-sizing: border-box;text-align: center;}#sk-container-id-1 label.sk-toggleable__label-arrow:before {content: \"▸\";float: left;margin-right: 0.25em;color: #696969;}#sk-container-id-1 label.sk-toggleable__label-arrow:hover:before {color: black;}#sk-container-id-1 div.sk-estimator:hover label.sk-toggleable__label-arrow:before {color: black;}#sk-container-id-1 div.sk-toggleable__content {max-height: 0;max-width: 0;overflow: hidden;text-align: left;background-color: #f0f8ff;}#sk-container-id-1 div.sk-toggleable__content pre {margin: 0.2em;color: black;border-radius: 0.25em;background-color: #f0f8ff;}#sk-container-id-1 input.sk-toggleable__control:checked~div.sk-toggleable__content {max-height: 200px;max-width: 100%;overflow: auto;}#sk-container-id-1 input.sk-toggleable__control:checked~label.sk-toggleable__label-arrow:before {content: \"▾\";}#sk-container-id-1 div.sk-estimator input.sk-toggleable__control:checked~label.sk-toggleable__label {background-color: #d4ebff;}#sk-container-id-1 div.sk-label input.sk-toggleable__control:checked~label.sk-toggleable__label {background-color: #d4ebff;}#sk-container-id-1 input.sk-hidden--visually {border: 0;clip: rect(1px 1px 1px 1px);clip: rect(1px, 1px, 1px, 1px);height: 1px;margin: -1px;overflow: hidden;padding: 0;position: absolute;width: 1px;}#sk-container-id-1 div.sk-estimator {font-family: monospace;background-color: #f0f8ff;border: 1px dotted black;border-radius: 0.25em;box-sizing: border-box;margin-bottom: 0.5em;}#sk-container-id-1 div.sk-estimator:hover {background-color: #d4ebff;}#sk-container-id-1 div.sk-parallel-item::after {content: \"\";width: 100%;border-bottom: 1px solid gray;flex-grow: 1;}#sk-container-id-1 div.sk-label:hover label.sk-toggleable__label {background-color: #d4ebff;}#sk-container-id-1 div.sk-serial::before {content: \"\";position: absolute;border-left: 1px solid gray;box-sizing: border-box;top: 0;bottom: 0;left: 50%;z-index: 0;}#sk-container-id-1 div.sk-serial {display: flex;flex-direction: column;align-items: center;background-color: white;padding-right: 0.2em;padding-left: 0.2em;position: relative;}#sk-container-id-1 div.sk-item {position: relative;z-index: 1;}#sk-container-id-1 div.sk-parallel {display: flex;align-items: stretch;justify-content: center;background-color: white;position: relative;}#sk-container-id-1 div.sk-item::before, #sk-container-id-1 div.sk-parallel-item::before {content: \"\";position: absolute;border-left: 1px solid gray;box-sizing: border-box;top: 0;bottom: 0;left: 50%;z-index: -1;}#sk-container-id-1 div.sk-parallel-item {display: flex;flex-direction: column;z-index: 1;position: relative;background-color: white;}#sk-container-id-1 div.sk-parallel-item:first-child::after {align-self: flex-end;width: 50%;}#sk-container-id-1 div.sk-parallel-item:last-child::after {align-self: flex-start;width: 50%;}#sk-container-id-1 div.sk-parallel-item:only-child::after {width: 0;}#sk-container-id-1 div.sk-dashed-wrapped {border: 1px dashed gray;margin: 0 0.4em 0.5em 0.4em;box-sizing: border-box;padding-bottom: 0.4em;background-color: white;}#sk-container-id-1 div.sk-label label {font-family: monospace;font-weight: bold;display: inline-block;line-height: 1.2em;}#sk-container-id-1 div.sk-label-container {text-align: center;}#sk-container-id-1 div.sk-container {/* jupyter's `normalize.less` sets `[hidden] { display: none; }` but bootstrap.min.css set `[hidden] { display: none !important; }` so we also need the `!important` here to be able to override the default hidden behavior on the sphinx rendered scikit-learn.org. See: https://github.com/scikit-learn/scikit-learn/issues/21755 */display: inline-block !important;position: relative;}#sk-container-id-1 div.sk-text-repr-fallback {display: none;}</style><div id=\"sk-container-id-1\" class=\"sk-top-container\"><div class=\"sk-text-repr-fallback\"><pre>RandomForestRegressor()</pre><b>In a Jupyter environment, please rerun this cell to show the HTML representation or trust the notebook. <br />On GitHub, the HTML representation is unable to render, please try loading this page with nbviewer.org.</b></div><div class=\"sk-container\" hidden><div class=\"sk-item\"><div class=\"sk-estimator sk-toggleable\"><input class=\"sk-toggleable__control sk-hidden--visually\" id=\"sk-estimator-id-1\" type=\"checkbox\" checked><label for=\"sk-estimator-id-1\" class=\"sk-toggleable__label sk-toggleable__label-arrow\">RandomForestRegressor</label><div class=\"sk-toggleable__content\"><pre>RandomForestRegressor()</pre></div></div></div></div></div>"
            ],
            "text/plain": [
              "RandomForestRegressor()"
            ]
          },
          "execution_count": 4,
          "metadata": {},
          "output_type": "execute_result"
        }
      ],
      "source": [
        "rf = RandomForestRegressor()\n",
        "rf.fit(X_train, y_train)"
      ]
    },
    {
      "cell_type": "code",
      "execution_count": 5,
      "metadata": {},
      "outputs": [
        {
          "data": {
            "text/plain": [
              "array([0.01445326, 0.03640042, 0.01273929, 0.00547303, 0.00451899,\n",
              "       0.67127151, 0.23253796, 0.01112802, 0.01147753])"
            ]
          },
          "execution_count": 5,
          "metadata": {},
          "output_type": "execute_result"
        }
      ],
      "source": [
        "rf.feature_importances_"
      ]
    },
    {
      "cell_type": "code",
      "execution_count": 6,
      "metadata": {
        "colab": {
          "base_uri": "https://localhost:8080/",
          "height": 353
        },
        "id": "18Fnc7-Y1ti-",
        "outputId": "16b797b4-891a-4c41-999f-100ef09b87ef"
      },
      "outputs": [
        {
          "data": {
            "text/plain": [
              "2.1062912024219442"
            ]
          },
          "execution_count": 6,
          "metadata": {},
          "output_type": "execute_result"
        }
      ],
      "source": [
        "y_pred_node = rf.predict(X_val)\n",
        "mean_squared_error(y_pred_node, y_val, squared=False)"
      ]
    },
    {
      "cell_type": "code",
      "execution_count": 7,
      "metadata": {
        "id": "VLZUBywg1wm6"
      },
      "outputs": [
        {
          "data": {
            "text/plain": [
              "87.15147805984927"
            ]
          },
          "execution_count": 7,
          "metadata": {},
          "output_type": "execute_result"
        }
      ],
      "source": [
        "y_pred_node = pd.Series(y_pred_node, index=y_val.index)\n",
        "y_pred_total = get_eta_from_nodes(y_pred_node)\n",
        "y_test_total = get_eta_from_nodes(y_val)\n",
        "mean_squared_error(y_pred_total, y_test_total, squared=False)"
      ]
    },
    {
      "cell_type": "code",
      "execution_count": 33,
      "metadata": {},
      "outputs": [
        {
          "name": "stdout",
          "output_type": "stream",
          "text": [
            "        running_time  route_distance_km  latest10    distance      speed  \\\n",
            "Id                                                                         \n",
            "6198             218              4.744  1.000000  138.795710  10.277778   \n",
            "6198             218              4.744  1.000000   95.273001   9.166667   \n",
            "6198             218              4.744  1.000000  137.647881   9.722222   \n",
            "6198             218              4.744  1.000000    4.383708   8.333333   \n",
            "6198             218              4.744  1.000000   24.195593   8.611111   \n",
            "...              ...                ...       ...         ...        ...   \n",
            "527520          1132              0.703  0.949619  126.478060   6.666667   \n",
            "527520          1132              0.703  0.949619   90.911869  10.833333   \n",
            "527520          1132              0.703  0.949619   16.870887  12.500000   \n",
            "527520          1132              0.703  0.949619   44.055661  12.500000   \n",
            "527520          1132              0.703  0.949619   22.109122   6.944444   \n",
            "\n",
            "        expected_node_time  node_part_time  node_part_distance  time_rbf  \n",
            "Id                                                                        \n",
            "6198             13.504447        0.034530            0.029257  0.357252  \n",
            "6198             10.393418        0.026575            0.020083  0.357828  \n",
            "6198             14.158068        0.036201            0.029015  0.358614  \n",
            "6198              0.526045        0.001345            0.000924  0.358643  \n",
            "6198              2.809811        0.007185            0.005100  0.358799  \n",
            "...                    ...             ...                 ...       ...  \n",
            "527520           18.971709        0.259827            0.179912  0.959590  \n",
            "527520            8.391865        0.114931            0.129320  0.959456  \n",
            "527520            1.349671        0.018484            0.023998  0.959435  \n",
            "527520            3.524453        0.048269            0.062668  0.959378  \n",
            "527520            3.183714        0.043602            0.031450  0.959327  \n",
            "\n",
            "[102496 rows x 9 columns]\n"
          ]
        }
      ],
      "source": [
        "orders_test, nodes_test = load_data(\"test_data/final_test.csv\", \"test_data/nodes_test.csv\", False)\n",
        "X, y = feat_eng(orders_test, nodes_test, train_orders=orders, train=False)"
      ]
    },
    {
      "cell_type": "code",
      "execution_count": 34,
      "metadata": {},
      "outputs": [
        {
          "data": {
            "text/plain": [
              "Int64Index([  6198,   6198,   6198,   6198,   6198,   6198,   6198,   6198,\n",
              "              6198,   6198,\n",
              "            ...\n",
              "            527520, 527520, 527520, 527520, 527520, 527520, 527520, 527520,\n",
              "            527520, 527520],\n",
              "           dtype='int64', name='Id', length=102496)"
            ]
          },
          "execution_count": 34,
          "metadata": {},
          "output_type": "execute_result"
        }
      ],
      "source": [
        "y"
      ]
    },
    {
      "cell_type": "code",
      "execution_count": 35,
      "metadata": {},
      "outputs": [
        {
          "data": {
            "text/plain": [
              "Id\n",
              "6198      476.939408\n",
              "6417      695.056060\n",
              "7054      460.645619\n",
              "9628      682.938070\n",
              "10283     650.357200\n",
              "             ...    \n",
              "525706    450.311885\n",
              "526604    539.362743\n",
              "527213    509.980963\n",
              "527520    215.648658\n",
              "527850    755.677683\n",
              "Length: 1000, dtype: float64"
            ]
          },
          "execution_count": 35,
          "metadata": {},
          "output_type": "execute_result"
        }
      ],
      "source": [
        "pred_nodes = rf.predict(X)\n",
        "pred_nodes = pd.Series(pred_nodes, index=y)\n",
        "pred = get_eta_from_nodes(pred_nodes)\n",
        "\n",
        "pred"
      ]
    },
    {
      "cell_type": "code",
      "execution_count": 37,
      "metadata": {},
      "outputs": [],
      "source": [
        "pred.to_csv(\"submission.csv\")"
      ]
    }
  ],
  "metadata": {
    "colab": {
      "provenance": []
    },
    "kernelspec": {
      "display_name": "Python 3",
      "language": "python",
      "name": "python3"
    },
    "language_info": {
      "codemirror_mode": {
        "name": "ipython",
        "version": 3
      },
      "file_extension": ".py",
      "mimetype": "text/x-python",
      "name": "python",
      "nbconvert_exporter": "python",
      "pygments_lexer": "ipython3",
      "version": "3.9.12"
    },
    "vscode": {
      "interpreter": {
        "hash": "aee8b7b246df8f9039afb4144a1f6fd8d2ca17a180786b69acc140d282b71a49"
      }
    }
  },
  "nbformat": 4,
  "nbformat_minor": 0
}
