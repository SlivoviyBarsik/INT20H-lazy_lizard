{
  "cells": [
    {
      "cell_type": "code",
      "execution_count": 45,
      "metadata": {
        "id": "TG5LUT7Ipl-Z"
      },
      "outputs": [],
      "source": [
        "import pandas as pd \n",
        "import numpy as np\n",
        "import seaborn as sns\n",
        "import matplotlib.pyplot as plt\n",
        "\n",
        "from sklearn.metrics.pairwise import rbf_kernel\n",
        "from sklearn.metrics import mean_squared_error\n",
        "from sklearn.ensemble import RandomForestRegressor"
      ]
    },
    {
      "cell_type": "code",
      "execution_count": 46,
      "metadata": {
        "id": "nzWjdeSFqsFS"
      },
      "outputs": [],
      "source": [
        "orders = pd.read_csv(\"orders.csv\")\n",
        "nodes  = pd.read_csv(\"nodes.csv\")\n",
        "nodes = nodes[nodes[\"Id\"].isin(orders.Id)]\n"
      ]
    },
    {
      "cell_type": "code",
      "execution_count": 47,
      "metadata": {
        "id": "bXV5VOKOvA1A"
      },
      "outputs": [],
      "source": [
        "#Fill NA with mean\n",
        "nodes.speed.fillna(nodes.speed.mean(), inplace=True)\n",
        "\n",
        "nodes.speed = nodes.speed / 3.6 # From km/h to m/s\n",
        "nodes['expected_node_time'] = nodes.distance / nodes.speed\n",
        "\n",
        "orders = orders.merge(nodes.groupby('Id').sum()['expected_node_time'], left_on='Id', right_index=True).rename({'expected_node_time': 'expected_time'}, axis=1)"
      ]
    },
    {
      "cell_type": "code",
      "execution_count": 48,
      "metadata": {
        "id": "HXXm8ZWBuBkF"
      },
      "outputs": [],
      "source": [
        "orders.running_time = pd.to_datetime(orders.running_time)\n",
        "orders.completed_time = pd.to_datetime(orders.completed_time)"
      ]
    },
    {
      "cell_type": "code",
      "execution_count": 50,
      "metadata": {
        "id": "Ltt-Ay8SuMRu"
      },
      "outputs": [],
      "source": [
        "orders.running_time = orders.running_time.dt.hour * 60 + orders.running_time.dt.minute\n",
        "orders.completed_time = orders.completed_time.dt.hour * 60 + orders.completed_time.dt.minute\n",
        "\n",
        "apply_rbf = lambda X: rbf_kernel(X, [[450]], gamma=0.00002) + rbf_kernel(X, [[1050]], gamma=0.000006)"
      ]
    },
    {
      "cell_type": "code",
      "execution_count": 51,
      "metadata": {
        "id": "WQC6Oa1mwlst"
      },
      "outputs": [],
      "source": [
        "orders = orders.sort_values('running_time')\n",
        "orders.loc[(orders['running_time'] > 1300) & (orders['completed_time'] < 1000), 'completed_time'] = 1440 + orders.loc[(orders['running_time'] > 1300) & (orders['completed_time'] < 1000), 'completed_time']"
      ]
    },
    {
      "cell_type": "code",
      "execution_count": 52,
      "metadata": {
        "id": "CJBGDtzDyElp"
      },
      "outputs": [],
      "source": [
        "# Using the information about latest 10 rides (at the time of a ride start)\n",
        "# Comparing the true target and the expected target calculated using distance/speed from nodes file\n",
        "# This will improve the prediction of a speed\n",
        "\n",
        "latest10_list = []\n",
        "\n",
        "for ind, row in orders.iterrows():    \n",
        "    latest10 = orders.loc[orders.completed_time < row.running_time].tail(10).mean()\n",
        "    latest10_value = (latest10.delta_time - latest10.expected_time) / latest10.delta_time + 1\n",
        "    latest10_list.append(latest10_value)\n",
        "\n",
        "\n",
        "latest10_list[:10] = [1] * 10\n",
        "orders['latest10'] = latest10_list\n",
        "orders['expected_time'] = orders.latest10 * orders.expected_time"
      ]
    },
    {
      "cell_type": "code",
      "execution_count": 53,
      "metadata": {
        "id": "E_QvOF9_urnL"
      },
      "outputs": [],
      "source": [
        "df = pd.merge(orders, nodes, left_on='Id', right_on='Id')\n",
        "df.drop(['completed_time', 'node_start', 'node_finish'], axis=1, inplace=True)\n",
        "\n",
        "# One order has 0 distance, removed it from the set\n",
        "df = df.loc[df['route_distance_km'] != 0]"
      ]
    },
    {
      "cell_type": "code",
      "execution_count": 54,
      "metadata": {
        "id": "abe2fhXJu0oJ"
      },
      "outputs": [],
      "source": [
        "df['node_part_time'] = df['expected_node_time'] / df['expected_time']\n",
        "df['node_part_distance'] = df['distance'] / df['route_distance_km'] / 1000"
      ]
    },
    {
      "cell_type": "code",
      "execution_count": 55,
      "metadata": {
        "id": "fbaOGrglvhPw"
      },
      "outputs": [],
      "source": [
        "df['current_time'] = df.groupby('Id').expected_node_time.transform(np.cumsum) / 60 + df.running_time\n",
        "\n",
        "df['time_rbf'] = apply_rbf(df[['current_time']])"
      ]
    },
    {
      "cell_type": "code",
      "execution_count": 56,
      "metadata": {
        "id": "5W9IK99W08YF"
      },
      "outputs": [],
      "source": [
        "df['delta_time'] = df['delta_time'] * df['node_part_time']\n",
        "df.set_index('Id', inplace=True)"
      ]
    },
    {
      "cell_type": "code",
      "execution_count": 57,
      "metadata": {
        "id": "zszdCl-k0T5E"
      },
      "outputs": [],
      "source": [
        "X = df.drop(['expected_time', 'delta_time', 'running_time', 'current_time'], axis=1)\n",
        "y = df['delta_time']"
      ]
    },
    {
      "cell_type": "code",
      "execution_count": 60,
      "metadata": {
        "id": "q6Z133LT1S6Q"
      },
      "outputs": [],
      "source": [
        "test_ind = np.random.choice(X.index.unique(), size=1000, replace=False)\n",
        "X_test = X.loc[test_ind]\n",
        "y_test = y.loc[test_ind]\n",
        "X_train = X.loc[~X.index.isin(test_ind)]\n",
        "y_train = y.loc[~X.index.isin(test_ind)]"
      ]
    },
    {
      "cell_type": "code",
      "execution_count": 62,
      "metadata": {
        "id": "05Qd2fzq1qlF"
      },
      "outputs": [
        {
          "data": {
            "text/html": [
              "<style>#sk-container-id-4 {color: black;background-color: white;}#sk-container-id-4 pre{padding: 0;}#sk-container-id-4 div.sk-toggleable {background-color: white;}#sk-container-id-4 label.sk-toggleable__label {cursor: pointer;display: block;width: 100%;margin-bottom: 0;padding: 0.3em;box-sizing: border-box;text-align: center;}#sk-container-id-4 label.sk-toggleable__label-arrow:before {content: \"▸\";float: left;margin-right: 0.25em;color: #696969;}#sk-container-id-4 label.sk-toggleable__label-arrow:hover:before {color: black;}#sk-container-id-4 div.sk-estimator:hover label.sk-toggleable__label-arrow:before {color: black;}#sk-container-id-4 div.sk-toggleable__content {max-height: 0;max-width: 0;overflow: hidden;text-align: left;background-color: #f0f8ff;}#sk-container-id-4 div.sk-toggleable__content pre {margin: 0.2em;color: black;border-radius: 0.25em;background-color: #f0f8ff;}#sk-container-id-4 input.sk-toggleable__control:checked~div.sk-toggleable__content {max-height: 200px;max-width: 100%;overflow: auto;}#sk-container-id-4 input.sk-toggleable__control:checked~label.sk-toggleable__label-arrow:before {content: \"▾\";}#sk-container-id-4 div.sk-estimator input.sk-toggleable__control:checked~label.sk-toggleable__label {background-color: #d4ebff;}#sk-container-id-4 div.sk-label input.sk-toggleable__control:checked~label.sk-toggleable__label {background-color: #d4ebff;}#sk-container-id-4 input.sk-hidden--visually {border: 0;clip: rect(1px 1px 1px 1px);clip: rect(1px, 1px, 1px, 1px);height: 1px;margin: -1px;overflow: hidden;padding: 0;position: absolute;width: 1px;}#sk-container-id-4 div.sk-estimator {font-family: monospace;background-color: #f0f8ff;border: 1px dotted black;border-radius: 0.25em;box-sizing: border-box;margin-bottom: 0.5em;}#sk-container-id-4 div.sk-estimator:hover {background-color: #d4ebff;}#sk-container-id-4 div.sk-parallel-item::after {content: \"\";width: 100%;border-bottom: 1px solid gray;flex-grow: 1;}#sk-container-id-4 div.sk-label:hover label.sk-toggleable__label {background-color: #d4ebff;}#sk-container-id-4 div.sk-serial::before {content: \"\";position: absolute;border-left: 1px solid gray;box-sizing: border-box;top: 0;bottom: 0;left: 50%;z-index: 0;}#sk-container-id-4 div.sk-serial {display: flex;flex-direction: column;align-items: center;background-color: white;padding-right: 0.2em;padding-left: 0.2em;position: relative;}#sk-container-id-4 div.sk-item {position: relative;z-index: 1;}#sk-container-id-4 div.sk-parallel {display: flex;align-items: stretch;justify-content: center;background-color: white;position: relative;}#sk-container-id-4 div.sk-item::before, #sk-container-id-4 div.sk-parallel-item::before {content: \"\";position: absolute;border-left: 1px solid gray;box-sizing: border-box;top: 0;bottom: 0;left: 50%;z-index: -1;}#sk-container-id-4 div.sk-parallel-item {display: flex;flex-direction: column;z-index: 1;position: relative;background-color: white;}#sk-container-id-4 div.sk-parallel-item:first-child::after {align-self: flex-end;width: 50%;}#sk-container-id-4 div.sk-parallel-item:last-child::after {align-self: flex-start;width: 50%;}#sk-container-id-4 div.sk-parallel-item:only-child::after {width: 0;}#sk-container-id-4 div.sk-dashed-wrapped {border: 1px dashed gray;margin: 0 0.4em 0.5em 0.4em;box-sizing: border-box;padding-bottom: 0.4em;background-color: white;}#sk-container-id-4 div.sk-label label {font-family: monospace;font-weight: bold;display: inline-block;line-height: 1.2em;}#sk-container-id-4 div.sk-label-container {text-align: center;}#sk-container-id-4 div.sk-container {/* jupyter's `normalize.less` sets `[hidden] { display: none; }` but bootstrap.min.css set `[hidden] { display: none !important; }` so we also need the `!important` here to be able to override the default hidden behavior on the sphinx rendered scikit-learn.org. See: https://github.com/scikit-learn/scikit-learn/issues/21755 */display: inline-block !important;position: relative;}#sk-container-id-4 div.sk-text-repr-fallback {display: none;}</style><div id=\"sk-container-id-4\" class=\"sk-top-container\"><div class=\"sk-text-repr-fallback\"><pre>RandomForestRegressor()</pre><b>In a Jupyter environment, please rerun this cell to show the HTML representation or trust the notebook. <br />On GitHub, the HTML representation is unable to render, please try loading this page with nbviewer.org.</b></div><div class=\"sk-container\" hidden><div class=\"sk-item\"><div class=\"sk-estimator sk-toggleable\"><input class=\"sk-toggleable__control sk-hidden--visually\" id=\"sk-estimator-id-4\" type=\"checkbox\" checked><label for=\"sk-estimator-id-4\" class=\"sk-toggleable__label sk-toggleable__label-arrow\">RandomForestRegressor</label><div class=\"sk-toggleable__content\"><pre>RandomForestRegressor()</pre></div></div></div></div></div>"
            ],
            "text/plain": [
              "RandomForestRegressor()"
            ]
          },
          "execution_count": 62,
          "metadata": {},
          "output_type": "execute_result"
        }
      ],
      "source": [
        "rf = RandomForestRegressor()\n",
        "rf.fit(X_train, y_train)"
      ]
    },
    {
      "cell_type": "code",
      "execution_count": 64,
      "metadata": {
        "colab": {
          "base_uri": "https://localhost:8080/",
          "height": 353
        },
        "id": "18Fnc7-Y1ti-",
        "outputId": "16b797b4-891a-4c41-999f-100ef09b87ef"
      },
      "outputs": [
        {
          "data": {
            "text/plain": [
              "2.280415781564325"
            ]
          },
          "execution_count": 64,
          "metadata": {},
          "output_type": "execute_result"
        }
      ],
      "source": [
        "y_pred_node = rf.predict(X_test)\n",
        "mean_squared_error(y_pred, y_test, squared=False)"
      ]
    },
    {
      "cell_type": "code",
      "execution_count": 66,
      "metadata": {
        "id": "VLZUBywg1wm6"
      },
      "outputs": [
        {
          "data": {
            "text/plain": [
              "90.23626092334955"
            ]
          },
          "execution_count": 66,
          "metadata": {},
          "output_type": "execute_result"
        }
      ],
      "source": [
        "y_pred_node = pd.Series(y_pred_node, index=y_test.index)\n",
        "y_pred_total = y_pred_node.groupby('Id').sum()\n",
        "y_test_total = y_test.groupby('Id').sum()\n",
        "mean_squared_error(y_pred_total, y_test_total, squared=False)"
      ]
    }
  ],
  "metadata": {
    "colab": {
      "provenance": []
    },
    "kernelspec": {
      "display_name": "Python 3",
      "language": "python",
      "name": "python3"
    },
    "language_info": {
      "codemirror_mode": {
        "name": "ipython",
        "version": 3
      },
      "file_extension": ".py",
      "mimetype": "text/x-python",
      "name": "python",
      "nbconvert_exporter": "python",
      "pygments_lexer": "ipython3",
      "version": "3.11.1"
    },
    "vscode": {
      "interpreter": {
        "hash": "aee8b7b246df8f9039afb4144a1f6fd8d2ca17a180786b69acc140d282b71a49"
      }
    }
  },
  "nbformat": 4,
  "nbformat_minor": 0
}
